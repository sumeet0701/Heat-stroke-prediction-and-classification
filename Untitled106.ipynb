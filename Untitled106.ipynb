{
 "cells": [
  {
   "cell_type": "code",
   "execution_count": 1,
   "id": "0383e272",
   "metadata": {},
   "outputs": [],
   "source": [
    "import streamlit as st\n",
    "import pickle as pkl\n",
    "import warnings\n",
    "warnings.filterwarnings(\"ignore\")"
   ]
  },
  {
   "cell_type": "code",
   "execution_count": 2,
   "id": "e0df3b8b",
   "metadata": {},
   "outputs": [],
   "source": [
    "model = pkl.load(open('stroke.pkl','rb'))"
   ]
  },
  {
   "cell_type": "code",
   "execution_count": 3,
   "id": "ae61a17d",
   "metadata": {},
   "outputs": [],
   "source": [
    "def prediction1(Gender, Age, Hypertension, Heart_Disease,\n",
    "                                  Ever_Married, Residence_Type, Glucose_Level,\n",
    "                                  BMI, work_type_Govt_job, work_type_Never_worked,\n",
    "                                  work_type_Private, work_type_Self_employed, \n",
    "                                  work_type_children, smoking_status_Unknown, \n",
    "                                  smoking_status_formerly_smoked, smoking_status_never_smoked,\n",
    "                                  smoking_status_smokes):    \n",
    "    prediction1 = model.predict([[Gender, Age, Hypertension, Heart_Disease,\n",
    "                                  Ever_Married, Residence_Type, Glucose_Level,\n",
    "                                  BMI, work_type_Govt_job, work_type_Never_worked,\n",
    "                                  work_type_Private, work_type_Self_employed, \n",
    "                                  work_type_children, smoking_status_Unknown, \n",
    "                                  smoking_status_formerly_smoked, smoking_status_never_smoked,\n",
    "                                  smoking_status_smokes]])  \n",
    "    print(prediction1)\n",
    "    return(prediction1)"
   ]
  },
  {
   "cell_type": "code",
   "execution_count": 4,
   "id": "e49b6762",
   "metadata": {},
   "outputs": [
    {
     "name": "stderr",
     "output_type": "stream",
     "text": [
      "2022-10-22 15:10:52.516 \n",
      "  \u001b[33m\u001b[1mWarning:\u001b[0m to view this Streamlit app on a browser, run it with the following\n",
      "  command:\n",
      "\n",
      "    streamlit run c:\\pythonn\\lib\\site-packages\\ipykernel_launcher.py [ARGUMENTS]\n"
     ]
    }
   ],
   "source": [
    "def main():  \n",
    "      # Now, we will give the title to out web page  \n",
    "    st.title(\"Heart Stroke Prediction\")  \n",
    "        \n",
    "    # Now, we will be defining some of the frontend elements of our web            # page like the colour of background and fonts and font size, the padding and    # the text to be displayed  \n",
    "    html_temp = \"\"\"  \n",
    "    <div style = \"background-colour: #FFFF00; padding: 16px\">  \n",
    "    <h1 style = \"color: #000000; text-align: centre; \"> Streamlit Heart Stroke Prediction ML App   \n",
    "     </h1>  \n",
    "    </div>  \n",
    "    \"\"\"  \n",
    "        \n",
    "    # Now, this line will allow us to display the front-end aspects we have   \n",
    "    # defined in the earlier  \n",
    "    st.markdown(html_temp, unsafe_allow_html = True)  \n",
    "    Gender = st.number_input('Enter your gender ( 1: Male , 0: Female):') \n",
    "    Age = st.number_input('Enter your age:')\n",
    "    Hypertension = st.number_input('Enter hypertension (0 or 1):')\n",
    "    Heart_Disease = st.number_input('Enter heart disease (0 or 1):')\n",
    "    Ever_Married = st.number_input('Enter ever married (0 or 1):')\n",
    "    Residence_Type = st.number_input('Enter residence type (0 or 1):')\n",
    "    Glucose_Level = st.number_input('Enter glucose level (50 - 300):')\n",
    "    BMI = st.number_input('Enter bmi (0 - 50):')\n",
    "    work_type_Govt_job = st.number_input('Government Job (0 or 1):')\n",
    "    work_type_Never_worked = st.number_input('Never Worked (0 or 1):')\n",
    "    work_type_Private = st.number_input('Private Job (0 or 1):')\n",
    "    work_type_Self_employed = st.number_input('Self Employed (0 or 1)')\n",
    "    work_type_children = st.number_input('Children (0 or 1):')\n",
    "    smoking_status_Unknown = st.number_input('Smoking Status (0 or 1):')\n",
    "    smoking_status_formerly_smoked  = st.number_input('Formely Smoked (0 or 1):')\n",
    "    smoking_status_never_smoked  = st.number_input('Never Smoked (0 or 1):')\n",
    "    smoking_status_smokes  = st.number_input('Smoked ( 0 or 1):')  \n",
    "    # Here, the following lines will create the text boxes in which the user can     # enter the data which is required for making the prediction    \n",
    "    result = \" \"  \n",
    "        \n",
    "    # here, the below line will ensure that whenever the button named 'Predict' # is clicked, the prediction function that is defined earlier is called for making   # the prediction and it will also store it in the variable result  \n",
    "    if st.button (\"Predict\"):  \n",
    "        result = prediction1(Gender, Age, Hypertension, Heart_Disease,\n",
    "                                  Ever_Married, Residence_Type, Glucose_Level,\n",
    "                                  BMI, work_type_Govt_job, work_type_Never_worked,\n",
    "                                  work_type_Private, work_type_Self_employed, \n",
    "                                  work_type_children, smoking_status_Unknown, \n",
    "                                  smoking_status_formerly_smoked, smoking_status_never_smoked,\n",
    "                                  smoking_status_smokes)  \n",
    "    st.success ('The output of the above is {}'.format(result))  \n",
    "if __name__== '__main__':  \n",
    "    main()  "
   ]
  }
 ],
 "metadata": {
  "kernelspec": {
   "display_name": "Python 3 (ipykernel)",
   "language": "python",
   "name": "python3"
  },
  "language_info": {
   "codemirror_mode": {
    "name": "ipython",
    "version": 3
   },
   "file_extension": ".py",
   "mimetype": "text/x-python",
   "name": "python",
   "nbconvert_exporter": "python",
   "pygments_lexer": "ipython3",
   "version": "3.8.4"
  }
 },
 "nbformat": 4,
 "nbformat_minor": 5
}
